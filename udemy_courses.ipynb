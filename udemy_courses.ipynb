{
 "cells": [
  {
   "cell_type": "code",
   "execution_count": 1,
   "id": "64a09e03-e873-4065-af75-dbc5ba12d1a3",
   "metadata": {},
   "outputs": [],
   "source": [
    "import pandas as pd\n",
    "import numpy as np\n",
    "import matplotlib.pyplot as plt\n",
    "import seaborn as sns"
   ]
  },
  {
   "cell_type": "code",
   "execution_count": 2,
   "id": "ee160230-a2fa-4e7e-b5d6-1f80d871abf7",
   "metadata": {},
   "outputs": [],
   "source": [
    "# Fix timezone mismatch by normalizing timestamps to tz-naive before computing age\n",
    "import os, re, math, joblib\n",
    "from sklearn.model_selection import train_test_split, StratifiedKFold, KFold, cross_val_score\n",
    "from sklearn.preprocessing import StandardScaler\n",
    "from sklearn.metrics import accuracy_score, precision_score, recall_score, f1_score, roc_auc_score, confusion_matrix, roc_curve\n",
    "from sklearn.metrics import mean_absolute_error, mean_squared_error, r2_score\n",
    "from sklearn.linear_model import LogisticRegression, LinearRegression\n",
    "from sklearn.ensemble import RandomForestClassifier, GradientBoostingClassifier, RandomForestRegressor, GradientBoostingRegressor"
   ]
  },
  {
   "cell_type": "code",
   "execution_count": 4,
   "id": "180b8bb9-a495-4fef-a556-e48358b758c9",
   "metadata": {},
   "outputs": [],
   "source": [
    "PROJ = r\"C:\\Users\\PC\\Desktop\\practice\\testing/udemy_portfolio_project\"\n",
    "FIGS = os.path.join(PROJ, \"figs\")\n",
    "MODELS = os.path.join(PROJ, \"models\")\n",
    "RESULTS = os.path.join(PROJ, \"results\")\n",
    "SCRIPTS = os.path.join(PROJ, \"scripts\")\n",
    "os.makedirs(FIGS, exist_ok=True)\n",
    "os.makedirs(MODELS, exist_ok=True)\n",
    "os.makedirs(RESULTS, exist_ok=True)\n",
    "os.makedirs(SCRIPTS, exist_ok=True)"
   ]
  },
  {
   "cell_type": "code",
   "execution_count": 5,
   "id": "dbf002db-bdad-458d-a6d8-2e80f65e6a15",
   "metadata": {},
   "outputs": [],
   "source": [
    "file_path = r\"C:\\Users\\PC\\Downloads\\Udemy Courses.csv\"\n",
    "df_raw = pd.read_csv(file_path)"
   ]
  },
  {
   "cell_type": "code",
   "execution_count": 6,
   "id": "75a0c23b-1e25-4b25-88f1-ee06ffeaeac2",
   "metadata": {},
   "outputs": [],
   "source": [
    "df = df_raw.copy()\n",
    "df.columns = [c.strip().lower().replace(\" \", \"_\") for c in df.columns]"
   ]
  },
  {
   "cell_type": "code",
   "execution_count": 6,
   "id": "6632d815-bd89-402c-89b0-cdd186a74c17",
   "metadata": {},
   "outputs": [],
   "source": [
    "df.to_csv(os.path.join(PROJ, \"udemy_courses_raw_snapshot.csv\"), index=False)"
   ]
  },
  {
   "cell_type": "code",
   "execution_count": 7,
   "id": "c2c24f27-7856-4de4-b726-0f90c8376972",
   "metadata": {},
   "outputs": [
    {
     "data": {
      "text/html": [
       "<div>\n",
       "<style scoped>\n",
       "    .dataframe tbody tr th:only-of-type {\n",
       "        vertical-align: middle;\n",
       "    }\n",
       "\n",
       "    .dataframe tbody tr th {\n",
       "        vertical-align: top;\n",
       "    }\n",
       "\n",
       "    .dataframe thead th {\n",
       "        text-align: right;\n",
       "    }\n",
       "</style>\n",
       "<table border=\"1\" class=\"dataframe\">\n",
       "  <thead>\n",
       "    <tr style=\"text-align: right;\">\n",
       "      <th></th>\n",
       "      <th>course_id</th>\n",
       "      <th>course_title</th>\n",
       "      <th>is_paid</th>\n",
       "      <th>price</th>\n",
       "      <th>num_subscribers</th>\n",
       "      <th>num_reviews</th>\n",
       "      <th>num_lectures</th>\n",
       "      <th>level</th>\n",
       "      <th>content_duration</th>\n",
       "      <th>published_timestamp</th>\n",
       "      <th>subject</th>\n",
       "    </tr>\n",
       "  </thead>\n",
       "  <tbody>\n",
       "    <tr>\n",
       "      <th>0</th>\n",
       "      <td>288942</td>\n",
       "      <td>#1 Piano Hand Coordination: Play 10th Ballad i...</td>\n",
       "      <td>True</td>\n",
       "      <td>35</td>\n",
       "      <td>3137</td>\n",
       "      <td>18</td>\n",
       "      <td>68</td>\n",
       "      <td>All Levels</td>\n",
       "      <td>1.5 hours</td>\n",
       "      <td>2014-09-18T05:07:05Z</td>\n",
       "      <td>Musical Instruments</td>\n",
       "    </tr>\n",
       "    <tr>\n",
       "      <th>1</th>\n",
       "      <td>1170074</td>\n",
       "      <td>#10 Hand Coordination - Transfer Chord Ballad ...</td>\n",
       "      <td>True</td>\n",
       "      <td>75</td>\n",
       "      <td>1593</td>\n",
       "      <td>1</td>\n",
       "      <td>41</td>\n",
       "      <td>Intermediate Level</td>\n",
       "      <td>1 hour</td>\n",
       "      <td>2017-04-12T19:06:34Z</td>\n",
       "      <td>Musical Instruments</td>\n",
       "    </tr>\n",
       "    <tr>\n",
       "      <th>2</th>\n",
       "      <td>1193886</td>\n",
       "      <td>#12 Hand Coordination: Let your Hands dance wi...</td>\n",
       "      <td>True</td>\n",
       "      <td>75</td>\n",
       "      <td>482</td>\n",
       "      <td>1</td>\n",
       "      <td>47</td>\n",
       "      <td>Intermediate Level</td>\n",
       "      <td>1.5 hours</td>\n",
       "      <td>2017-04-26T18:34:57Z</td>\n",
       "      <td>Musical Instruments</td>\n",
       "    </tr>\n",
       "    <tr>\n",
       "      <th>3</th>\n",
       "      <td>1116700</td>\n",
       "      <td>#4 Piano Hand Coordination: Fun Piano Runs in ...</td>\n",
       "      <td>True</td>\n",
       "      <td>75</td>\n",
       "      <td>850</td>\n",
       "      <td>3</td>\n",
       "      <td>43</td>\n",
       "      <td>Intermediate Level</td>\n",
       "      <td>1 hour</td>\n",
       "      <td>2017-02-21T23:48:18Z</td>\n",
       "      <td>Musical Instruments</td>\n",
       "    </tr>\n",
       "    <tr>\n",
       "      <th>4</th>\n",
       "      <td>1120410</td>\n",
       "      <td>#5  Piano Hand Coordination:  Piano Runs in 2 ...</td>\n",
       "      <td>True</td>\n",
       "      <td>75</td>\n",
       "      <td>940</td>\n",
       "      <td>3</td>\n",
       "      <td>32</td>\n",
       "      <td>Intermediate Level</td>\n",
       "      <td>37 mins</td>\n",
       "      <td>2017-02-21T23:44:49Z</td>\n",
       "      <td>Musical Instruments</td>\n",
       "    </tr>\n",
       "  </tbody>\n",
       "</table>\n",
       "</div>"
      ],
      "text/plain": [
       "   course_id                                       course_title  is_paid  \\\n",
       "0     288942  #1 Piano Hand Coordination: Play 10th Ballad i...     True   \n",
       "1    1170074  #10 Hand Coordination - Transfer Chord Ballad ...     True   \n",
       "2    1193886  #12 Hand Coordination: Let your Hands dance wi...     True   \n",
       "3    1116700  #4 Piano Hand Coordination: Fun Piano Runs in ...     True   \n",
       "4    1120410  #5  Piano Hand Coordination:  Piano Runs in 2 ...     True   \n",
       "\n",
       "  price  num_subscribers  num_reviews  num_lectures               level  \\\n",
       "0    35             3137           18            68          All Levels   \n",
       "1    75             1593            1            41  Intermediate Level   \n",
       "2    75              482            1            47  Intermediate Level   \n",
       "3    75              850            3            43  Intermediate Level   \n",
       "4    75              940            3            32  Intermediate Level   \n",
       "\n",
       "  content_duration   published_timestamp              subject  \n",
       "0        1.5 hours  2014-09-18T05:07:05Z  Musical Instruments  \n",
       "1           1 hour  2017-04-12T19:06:34Z  Musical Instruments  \n",
       "2        1.5 hours  2017-04-26T18:34:57Z  Musical Instruments  \n",
       "3           1 hour  2017-02-21T23:48:18Z  Musical Instruments  \n",
       "4          37 mins  2017-02-21T23:44:49Z  Musical Instruments  "
      ]
     },
     "execution_count": 7,
     "metadata": {},
     "output_type": "execute_result"
    }
   ],
   "source": [
    "df.head()"
   ]
  },
  {
   "cell_type": "code",
   "execution_count": 8,
   "id": "1c01e006-a716-4612-bd01-b5f77791e6b0",
   "metadata": {},
   "outputs": [
    {
     "name": "stdout",
     "output_type": "stream",
     "text": [
      "<class 'pandas.core.frame.DataFrame'>\n",
      "RangeIndex: 3682 entries, 0 to 3681\n",
      "Data columns (total 11 columns):\n",
      " #   Column               Non-Null Count  Dtype \n",
      "---  ------               --------------  ----- \n",
      " 0   course_id            3682 non-null   int64 \n",
      " 1   course_title         3682 non-null   object\n",
      " 2   is_paid              3682 non-null   bool  \n",
      " 3   price                3682 non-null   object\n",
      " 4   num_subscribers      3682 non-null   int64 \n",
      " 5   num_reviews          3682 non-null   int64 \n",
      " 6   num_lectures         3682 non-null   int64 \n",
      " 7   level                3682 non-null   object\n",
      " 8   content_duration     3682 non-null   object\n",
      " 9   published_timestamp  3682 non-null   object\n",
      " 10  subject              3682 non-null   object\n",
      "dtypes: bool(1), int64(4), object(6)\n",
      "memory usage: 291.4+ KB\n"
     ]
    }
   ],
   "source": [
    "df.info()"
   ]
  },
  {
   "cell_type": "code",
   "execution_count": 9,
   "id": "738f3874-c5de-4970-aa9e-666bb8dbf49a",
   "metadata": {},
   "outputs": [
    {
     "data": {
      "text/plain": [
       "array(['Musical Instruments', 'Business Finance', 'Graphic Design',\n",
       "       'Web Development'], dtype=object)"
      ]
     },
     "execution_count": 9,
     "metadata": {},
     "output_type": "execute_result"
    }
   ],
   "source": [
    "df.subject.unique()"
   ]
  },
  {
   "cell_type": "code",
   "execution_count": 10,
   "id": "5719b7aa-9916-4089-b4bb-6cadabf6b7bf",
   "metadata": {},
   "outputs": [
    {
     "data": {
      "text/plain": [
       "array(['All Levels', 'Intermediate Level', 'Beginner Level',\n",
       "       'Expert Level'], dtype=object)"
      ]
     },
     "execution_count": 10,
     "metadata": {},
     "output_type": "execute_result"
    }
   ],
   "source": [
    "df.level.unique()"
   ]
  },
  {
   "cell_type": "code",
   "execution_count": 11,
   "id": "8a3c4e3d-1917-4810-9ab5-46ad8139aba8",
   "metadata": {},
   "outputs": [
    {
     "data": {
      "text/plain": [
       "subject\n",
       "Web Development        1200\n",
       "Business Finance       1199\n",
       "Musical Instruments     680\n",
       "Graphic Design          603\n",
       "Name: count, dtype: int64"
      ]
     },
     "execution_count": 11,
     "metadata": {},
     "output_type": "execute_result"
    }
   ],
   "source": [
    "df.subject.value_counts()"
   ]
  },
  {
   "cell_type": "code",
   "execution_count": 12,
   "id": "6d2f350c-c27c-4811-aca0-877585dd6b92",
   "metadata": {},
   "outputs": [
    {
     "data": {
      "text/plain": [
       "is_paid\n",
       "True     3372\n",
       "False     310\n",
       "Name: count, dtype: int64"
      ]
     },
     "execution_count": 12,
     "metadata": {},
     "output_type": "execute_result"
    }
   ],
   "source": [
    "df.is_paid.value_counts()"
   ]
  },
  {
   "cell_type": "code",
   "execution_count": 13,
   "id": "3ae07d79-913a-4084-9656-c3946c9ba749",
   "metadata": {},
   "outputs": [
    {
     "data": {
      "text/plain": [
       "29"
      ]
     },
     "execution_count": 13,
     "metadata": {},
     "output_type": "execute_result"
    }
   ],
   "source": [
    "len(df[df.course_title.str.contains('Python', case = True)])"
   ]
  },
  {
   "cell_type": "code",
   "execution_count": 14,
   "id": "981cd242-4411-4225-9c37-44723ffcd878",
   "metadata": {},
   "outputs": [],
   "source": [
    "# Timestamp fix\n",
    "if \"published_timestamp\" in df.columns:\n",
    "    dt = pd.to_datetime(df[\"published_timestamp\"], errors=\"coerce\", utc=True)\n",
    "elif \"published_time\" in df.columns:\n",
    "    dt = pd.to_datetime(df[\"published_time\"], errors=\"coerce\", utc=True)\n",
    "else:\n",
    "    dt = pd.Series([pd.NaT]*len(df))\n",
    "df[\"published_timestamp\"] = dt.dt.tz_convert(None)"
   ]
  },
  {
   "cell_type": "code",
   "execution_count": 15,
   "id": "ce48a6db-92eb-4572-923c-3045e19c9c69",
   "metadata": {},
   "outputs": [],
   "source": [
    "# Price numeric + is_paid\n",
    "if \"price\" in df.columns:\n",
    "    df[\"price\"] = (\n",
    "        df[\"price\"].astype(str).str.replace(r\"[^0-9.]\", \"\", regex=True).replace({\"\": np.nan}).astype(float)\n",
    "    )\n",
    "if \"is_paid\" in df.columns and \"price\" in df.columns:\n",
    "    df.loc[df[\"is_paid\"] == False, \"price\"] = 0.0"
   ]
  },
  {
   "cell_type": "code",
   "execution_count": 16,
   "id": "7bb1ce88-2501-4bc9-bef3-d2e65c84113b",
   "metadata": {},
   "outputs": [],
   "source": [
    "# Content duration numeric\n",
    "if \"content_duration\" in df.columns:\n",
    "    def _to_float_hours(x):\n",
    "        if pd.isna(x): return np.nan\n",
    "        if isinstance(x, (int, float)): return float(x)\n",
    "        m = re.search(r\"(\\d+(\\.\\d+)?)\", str(x).lower())\n",
    "        return float(m.group(1)) if m else np.nan\n",
    "    df[\"content_duration\"] = df[\"content_duration\"].apply(_to_float_hours)"
   ]
  },
  {
   "cell_type": "code",
   "execution_count": 17,
   "id": "8c4f5b1f-6a54-4338-9b34-30ce3ef73739",
   "metadata": {},
   "outputs": [],
   "source": [
    "# Numeric conversions\n",
    "for col in [\"num_subscribers\",\"num_reviews\",\"num_lectures\"]:\n",
    "    if col in df.columns:\n",
    "        df[col] = pd.to_numeric(df[col], errors=\"coerce\")"
   ]
  },
  {
   "cell_type": "code",
   "execution_count": 18,
   "id": "d0c1485c-8a16-46b7-8f13-0d749e84da15",
   "metadata": {},
   "outputs": [],
   "source": [
    "# Time features\n",
    "now = pd.Timestamp.utcnow().tz_localize(None)\n",
    "df[\"course_age_days\"] = (now - df[\"published_timestamp\"]).dt.days\n",
    "df[\"pub_year\"] = df[\"published_timestamp\"].dt.year\n",
    "df[\"pub_month\"] = df[\"published_timestamp\"].dt.month\n",
    "df[\"pub_dow\"] = df[\"published_timestamp\"].dt.dayofweek"
   ]
  },
  {
   "cell_type": "code",
   "execution_count": 20,
   "id": "ffd47fdb-4835-45ab-87ba-1694ac3f25b6",
   "metadata": {},
   "outputs": [],
   "source": [
    "# Impute\n",
    "for c in df.select_dtypes(include=[np.number]).columns:\n",
    "    df[c] = df[c].fillna(df[c].median())\n",
    "for c in df.select_dtypes(exclude=[np.number]).columns:\n",
    "    df[c] = df[c].fillna(\"Unknown\")"
   ]
  },
  {
   "cell_type": "code",
   "execution_count": 21,
   "id": "75efa092-d9c4-456f-b301-90c4d8884a7f",
   "metadata": {},
   "outputs": [],
   "source": [
    "# Targets\n",
    "if \"num_subscribers\" not in df.columns:\n",
    "    raise ValueError(\"num_subscribers not found.\")\n",
    "thr = np.nanpercentile(df[\"num_subscribers\"], 75)\n",
    "df[\"popular\"] = (df[\"num_subscribers\"] >= thr).astype(int)"
   ]
  },
  {
   "cell_type": "code",
   "execution_count": 23,
   "id": "b40bc7df-dcfa-467c-9d93-d1bd4c006cde",
   "metadata": {},
   "outputs": [],
   "source": [
    "# Features\n",
    "feat = [c for c in [\"price\",\"num_reviews\",\"num_lectures\",\"content_duration\",\"course_age_days\",\"pub_year\",\"pub_month\",\"pub_dow\",\"is_paid\",\"subject\",\"level\"] if c in df.columns]\n",
    "X = pd.get_dummies(df[feat], columns=[c for c in [\"subject\",\"level\"] if c in df.columns], drop_first=True)\n",
    "y_class = df[\"popular\"].copy()\n",
    "y_reg = df[\"num_subscribers\"].copy()"
   ]
  },
  {
   "cell_type": "code",
   "execution_count": 22,
   "id": "e4beca30-af4b-4c6d-87f1-2c2f45544fc1",
   "metadata": {},
   "outputs": [
    {
     "data": {
      "text/html": [
       "<div>\n",
       "<style scoped>\n",
       "    .dataframe tbody tr th:only-of-type {\n",
       "        vertical-align: middle;\n",
       "    }\n",
       "\n",
       "    .dataframe tbody tr th {\n",
       "        vertical-align: top;\n",
       "    }\n",
       "\n",
       "    .dataframe thead th {\n",
       "        text-align: right;\n",
       "    }\n",
       "</style>\n",
       "<table border=\"1\" class=\"dataframe\">\n",
       "  <thead>\n",
       "    <tr style=\"text-align: right;\">\n",
       "      <th></th>\n",
       "      <th>course_id</th>\n",
       "      <th>course_title</th>\n",
       "      <th>is_paid</th>\n",
       "      <th>price</th>\n",
       "      <th>num_subscribers</th>\n",
       "      <th>num_reviews</th>\n",
       "      <th>num_lectures</th>\n",
       "      <th>level</th>\n",
       "      <th>content_duration</th>\n",
       "      <th>published_timestamp</th>\n",
       "      <th>subject</th>\n",
       "      <th>course_age_days</th>\n",
       "      <th>pub_year</th>\n",
       "      <th>pub_month</th>\n",
       "      <th>pub_dow</th>\n",
       "      <th>popular</th>\n",
       "    </tr>\n",
       "  </thead>\n",
       "  <tbody>\n",
       "    <tr>\n",
       "      <th>0</th>\n",
       "      <td>288942</td>\n",
       "      <td>#1 Piano Hand Coordination: Play 10th Ballad i...</td>\n",
       "      <td>True</td>\n",
       "      <td>35.0</td>\n",
       "      <td>3137</td>\n",
       "      <td>18</td>\n",
       "      <td>68</td>\n",
       "      <td>All Levels</td>\n",
       "      <td>1.5</td>\n",
       "      <td>2014-09-18 05:07:05</td>\n",
       "      <td>Musical Instruments</td>\n",
       "      <td>3982</td>\n",
       "      <td>2014</td>\n",
       "      <td>9</td>\n",
       "      <td>3</td>\n",
       "      <td>1</td>\n",
       "    </tr>\n",
       "    <tr>\n",
       "      <th>1</th>\n",
       "      <td>1170074</td>\n",
       "      <td>#10 Hand Coordination - Transfer Chord Ballad ...</td>\n",
       "      <td>True</td>\n",
       "      <td>75.0</td>\n",
       "      <td>1593</td>\n",
       "      <td>1</td>\n",
       "      <td>41</td>\n",
       "      <td>Intermediate Level</td>\n",
       "      <td>1.0</td>\n",
       "      <td>2017-04-12 19:06:34</td>\n",
       "      <td>Musical Instruments</td>\n",
       "      <td>3044</td>\n",
       "      <td>2017</td>\n",
       "      <td>4</td>\n",
       "      <td>2</td>\n",
       "      <td>0</td>\n",
       "    </tr>\n",
       "    <tr>\n",
       "      <th>2</th>\n",
       "      <td>1193886</td>\n",
       "      <td>#12 Hand Coordination: Let your Hands dance wi...</td>\n",
       "      <td>True</td>\n",
       "      <td>75.0</td>\n",
       "      <td>482</td>\n",
       "      <td>1</td>\n",
       "      <td>47</td>\n",
       "      <td>Intermediate Level</td>\n",
       "      <td>1.5</td>\n",
       "      <td>2017-04-26 18:34:57</td>\n",
       "      <td>Musical Instruments</td>\n",
       "      <td>3030</td>\n",
       "      <td>2017</td>\n",
       "      <td>4</td>\n",
       "      <td>2</td>\n",
       "      <td>0</td>\n",
       "    </tr>\n",
       "  </tbody>\n",
       "</table>\n",
       "</div>"
      ],
      "text/plain": [
       "   course_id                                       course_title  is_paid  \\\n",
       "0     288942  #1 Piano Hand Coordination: Play 10th Ballad i...     True   \n",
       "1    1170074  #10 Hand Coordination - Transfer Chord Ballad ...     True   \n",
       "2    1193886  #12 Hand Coordination: Let your Hands dance wi...     True   \n",
       "\n",
       "   price  num_subscribers  num_reviews  num_lectures               level  \\\n",
       "0   35.0             3137           18            68          All Levels   \n",
       "1   75.0             1593            1            41  Intermediate Level   \n",
       "2   75.0              482            1            47  Intermediate Level   \n",
       "\n",
       "   content_duration published_timestamp              subject  course_age_days  \\\n",
       "0               1.5 2014-09-18 05:07:05  Musical Instruments             3982   \n",
       "1               1.0 2017-04-12 19:06:34  Musical Instruments             3044   \n",
       "2               1.5 2017-04-26 18:34:57  Musical Instruments             3030   \n",
       "\n",
       "   pub_year  pub_month  pub_dow  popular  \n",
       "0      2014          9        3        1  \n",
       "1      2017          4        2        0  \n",
       "2      2017          4        2        0  "
      ]
     },
     "execution_count": 22,
     "metadata": {},
     "output_type": "execute_result"
    }
   ],
   "source": [
    "df.head(3)"
   ]
  },
  {
   "cell_type": "code",
   "execution_count": 21,
   "id": "8288a8e8-8fd5-4f7d-8f41-16be397cadda",
   "metadata": {},
   "outputs": [],
   "source": []
  },
  {
   "cell_type": "code",
   "execution_count": 25,
   "id": "24ed5bc2-a0c6-47ff-954a-87b630105e59",
   "metadata": {},
   "outputs": [
    {
     "name": "stdout",
     "output_type": "stream",
     "text": [
      "<class 'pandas.core.frame.DataFrame'>\n",
      "RangeIndex: 3682 entries, 0 to 3681\n",
      "Data columns (total 16 columns):\n",
      " #   Column               Non-Null Count  Dtype         \n",
      "---  ------               --------------  -----         \n",
      " 0   course_id            3682 non-null   int64         \n",
      " 1   course_title         3682 non-null   object        \n",
      " 2   is_paid              3682 non-null   bool          \n",
      " 3   price                3682 non-null   float64       \n",
      " 4   num_subscribers      3682 non-null   int64         \n",
      " 5   num_reviews          3682 non-null   int64         \n",
      " 6   num_lectures         3682 non-null   int64         \n",
      " 7   level                3682 non-null   object        \n",
      " 8   content_duration     3682 non-null   float64       \n",
      " 9   published_timestamp  3682 non-null   datetime64[ns]\n",
      " 10  subject              3682 non-null   object        \n",
      " 11  course_age_days      3682 non-null   int64         \n",
      " 12  pub_year             3682 non-null   int32         \n",
      " 13  pub_month            3682 non-null   int32         \n",
      " 14  pub_dow              3682 non-null   int32         \n",
      " 15  popular              3682 non-null   int32         \n",
      "dtypes: bool(1), datetime64[ns](1), float64(2), int32(4), int64(5), object(3)\n",
      "memory usage: 377.7+ KB\n"
     ]
    }
   ],
   "source": [
    "df.info()"
   ]
  },
  {
   "cell_type": "code",
   "execution_count": 36,
   "id": "89ccb8c0-e1f5-487a-8508-4eb2c2413347",
   "metadata": {},
   "outputs": [],
   "source": [
    "#df['is_paid'] = df['is_paid'].astype(int)\n",
    "#df.head(1)"
   ]
  },
  {
   "cell_type": "code",
   "execution_count": 27,
   "id": "33a22e35-9680-4aed-93ff-f8671f079c92",
   "metadata": {},
   "outputs": [],
   "source": [
    "X_train_c, X_test_c, y_train_c, y_test_c = train_test_split(X, y_class, test_size=0.2, stratify=y_class, random_state=42)\n",
    "X_train_r, X_test_r, y_train_r, y_test_r = train_test_split(X, y_reg, test_size=0.2, random_state=42)"
   ]
  },
  {
   "cell_type": "code",
   "execution_count": 28,
   "id": "20001b9c-ed49-4c69-89be-5f84d42bf345",
   "metadata": {},
   "outputs": [],
   "source": [
    "# Scale\n",
    "scaler = StandardScaler()\n",
    "cols = X.columns.tolist()\n",
    "X_train_c[cols] = scaler.fit_transform(X_train_c[cols]); X_test_c[cols] = scaler.transform(X_test_c[cols])\n",
    "X_train_r[cols] = scaler.fit_transform(X_train_r[cols]); X_test_r[cols] = scaler.transform(X_test_r[cols])"
   ]
  },
  {
   "cell_type": "code",
   "execution_count": 29,
   "id": "93fe1f5d-a757-4c62-afb9-6a3f98568879",
   "metadata": {},
   "outputs": [],
   "source": [
    "# Classification\n",
    "cls_models = {\n",
    "    \"Logistic Regression\": LogisticRegression(max_iter=2000),\n",
    "    \"Random Forest\": RandomForestClassifier(n_estimators=300, random_state=42),\n",
    "    \"Gradient Boosting\": GradientBoostingClassifier(random_state=42)\n",
    "}\n",
    "skf = StratifiedKFold(n_splits=5, shuffle=True, random_state=42)\n",
    "cls_rows = []\n",
    "best_name, best_model, best_f1 = None, None, -1\n",
    "for name, model in cls_models.items():\n",
    "    cv_acc = cross_val_score(model, X_train_c, y_train_c, cv=skf, scoring=\"accuracy\").mean()\n",
    "    cv_f1 = cross_val_score(model, X_train_c, y_train_c, cv=skf, scoring=\"f1\").mean()\n",
    "    model.fit(X_train_c, y_train_c)\n",
    "    pred = model.predict(X_test_c)\n",
    "    proba = model.predict_proba(X_test_c)[:,1] if hasattr(model, \"predict_proba\") else None\n",
    "    acc = accuracy_score(y_test_c, pred); prec = precision_score(y_test_c, pred); rec = recall_score(y_test_c, pred); f1 = f1_score(y_test_c, pred)\n",
    "    roc = roc_auc_score(y_test_c, proba) if proba is not None else np.nan\n",
    "    cls_rows.append({\"Model\": name, \"CV_Accuracy\": round(cv_acc,4), \"CV_F1\": round(cv_f1,4), \"Test_Accuracy\": round(acc,4),\n",
    "                     \"Precision\": round(prec,4), \"Recall\": round(rec,4), \"F1\": round(f1,4), \"ROC_AUC\": round(roc,4) if not math.isnan(roc) else None})\n",
    "    if f1 > best_f1:\n",
    "        best_f1, best_model, best_name = f1, model, name\n",
    "\n",
    "cls_df = pd.DataFrame(cls_rows).sort_values(by=\"F1\", ascending=False).reset_index(drop=True)\n",
    "cls_df.to_csv(os.path.join(RESULTS, \"classification_results.csv\"), index=False)"
   ]
  },
  {
   "cell_type": "code",
   "execution_count": 30,
   "id": "37eacc75-9f1a-4d29-b1e8-ac4826e4c88f",
   "metadata": {},
   "outputs": [
    {
     "name": "stderr",
     "output_type": "stream",
     "text": [
      "C:\\Users\\PC\\anaconda3\\Lib\\site-packages\\sklearn\\metrics\\_regression.py:492: FutureWarning: 'squared' is deprecated in version 1.4 and will be removed in 1.6. To calculate the root mean squared error, use the function'root_mean_squared_error'.\n",
      "  warnings.warn(\n",
      "C:\\Users\\PC\\anaconda3\\Lib\\site-packages\\sklearn\\metrics\\_regression.py:492: FutureWarning: 'squared' is deprecated in version 1.4 and will be removed in 1.6. To calculate the root mean squared error, use the function'root_mean_squared_error'.\n",
      "  warnings.warn(\n",
      "C:\\Users\\PC\\anaconda3\\Lib\\site-packages\\sklearn\\metrics\\_regression.py:492: FutureWarning: 'squared' is deprecated in version 1.4 and will be removed in 1.6. To calculate the root mean squared error, use the function'root_mean_squared_error'.\n",
      "  warnings.warn(\n"
     ]
    }
   ],
   "source": [
    "# Regression\n",
    "reg_models = {\n",
    "    \"Linear Regression\": LinearRegression(),\n",
    "    \"Random Forest Regressor\": RandomForestRegressor(n_estimators=400, random_state=42),\n",
    "    \"Gradient Boosting Regressor\": GradientBoostingRegressor(random_state=42)\n",
    "}\n",
    "kf = KFold(n_splits=5, shuffle=True, random_state=42)\n",
    "reg_rows = []\n",
    "best_reg, best_reg_name, best_mae = None, None, 1e9\n",
    "for name, model in reg_models.items():\n",
    "    cv_mae = -cross_val_score(model, X_train_r, y_train_r, cv=kf, scoring=\"neg_mean_absolute_error\").mean()\n",
    "    cv_r2 = cross_val_score(model, X_train_r, y_train_r, cv=kf, scoring=\"r2\").mean()\n",
    "    model.fit(X_train_r, y_train_r)\n",
    "    pred = model.predict(X_test_r)\n",
    "    mae = mean_absolute_error(y_test_r, pred); rmse = mean_squared_error(y_test_r, pred, squared=False); r2 = r2_score(y_test_r, pred)\n",
    "    reg_rows.append({\"Model\": name, \"CV_MAE\": round(cv_mae,2), \"CV_R2\": round(cv_r2,3), \"Test_MAE\": round(mae,2), \"Test_RMSE\": round(rmse,2), \"Test_R2\": round(r2,3)})\n",
    "    if mae < best_mae:\n",
    "        best_mae, best_reg, best_reg_name = mae, model, name\n",
    "reg_df = pd.DataFrame(reg_rows).sort_values(by=\"Test_MAE\", ascending=True).reset_index(drop=True)\n",
    "reg_df.to_csv(os.path.join(RESULTS, \"regression_results.csv\"), index=False)"
   ]
  },
  {
   "cell_type": "code",
   "execution_count": 32,
   "id": "39e6961b-1120-4778-bc5b-5deb84e2a2c8",
   "metadata": {},
   "outputs": [
    {
     "data": {
      "image/png": "[encoded data removed]",
      "text/plain": [
       "<Figure size 500x500 with 1 Axes>"
      ]
     },
     "metadata": {},
     "output_type": "display_data"
    }
   ],
   "source": [
    "pred = best_reg.predict(X_test_r)\n",
    "plt.figure(figsize=(5,5)); sns.scatterplot(x=y_test_r, y=pred, s=30)\n",
    "lims = [min(y_test_r.min(), pred.min()), max(y_test_r.max(), pred.max())]\n",
    "plt.plot(lims, lims, 'k--')\n",
    "plt.xlabel(\"Actual Subscribers\"); plt.ylabel(\"Predicted Subscribers\")\n",
    "plt.title(f\"Predicted vs Actual — {best_reg_name}\"); plt.tight_layout()\n",
    "plt.savefig(os.path.join(FIGS, f'pred_vs_actual_{best_reg_name.replace(\" \",\"_\").lower()}.png')); plt.show()"
   ]
  },
  {
   "cell_type": "code",
   "execution_count": 33,
   "id": "2c16e14d-42eb-4c5b-80a3-46aa04665e4e",
   "metadata": {},
   "outputs": [
    {
     "data": {
      "text/plain": [
       "['C:\\\\Users\\\\PC\\\\Desktop\\\\practice\\\\testing/udemy_portfolio_project\\\\models\\\\scaler.joblib']"
      ]
     },
     "execution_count": 33,
     "metadata": {},
     "output_type": "execute_result"
    }
   ],
   "source": [
    "# Save models & scaler\n",
    "joblib.dump(best_model, os.path.join(MODELS, f\"best_classifier_{best_name.replace(' ','_').lower()}.joblib\"))\n",
    "joblib.dump(best_reg, os.path.join(MODELS, f\"best_regressor_{best_reg_name.replace(' ','_').lower()}.joblib\"))\n",
    "joblib.dump(scaler, os.path.join(MODELS, \"scaler.joblib\"))"
   ]
  },
  {
   "cell_type": "code",
   "execution_count": 34,
   "id": "86fbc0d6-e047-449c-a2f8-b16dfd1c3162",
   "metadata": {},
   "outputs": [],
   "source": [
    "# Summaries\n",
    "summary = {\n",
    "    \"classification_top\": cls_df.head(3).to_dict(orient=\"records\"),\n",
    "    \"regression_top\": reg_df.head(3).to_dict(orient=\"records\"),\n",
    "    \"best_classifier\": best_name,\n",
    "    \"best_regressor\": best_reg_name,\n",
    "    \"project_dir\": PROJ\n",
    "}"
   ]
  },
  {
   "cell_type": "code",
   "execution_count": 41,
   "id": "227b04e8-c59d-4f27-b144-b55efc4e537e",
   "metadata": {},
   "outputs": [
    {
     "data": {
      "text/plain": [
       "{'project_dir': 'C:\\\\Users\\\\PC\\\\Desktop\\\\practice\\\\testing/udemy_portfolio_project',\n",
       " 'subdirs': ['figs', 'models', 'README.md', 'results', 'scripts'],\n",
       " 'figs': ['pred_vs_actual_gradient_boosting_regressor.png'],\n",
       " 'models': ['best_classifier_random_forest.joblib',\n",
       "  'best_regressor_gradient_boosting_regressor.joblib',\n",
       "  'scaler.joblib'],\n",
       " 'results': ['classification_results.csv', 'regression_results.csv'],\n",
       " 'scripts': ['udemy_ml_project.py'],\n",
       " 'readme_exists': True}"
      ]
     },
     "execution_count": 41,
     "metadata": {},
     "output_type": "execute_result"
    }
   ],
   "source": [
    "import json\n",
    "\n",
    "PROJ = r\"C:\\Users\\PC\\Desktop\\practice\\testing/udemy_portfolio_project\"\n",
    "def safe_ls(p):\n",
    "    try:\n",
    "        return os.listdir(p)\n",
    "    except Exception as e:\n",
    "        return [str(e)]\n",
    "        \n",
    "inventory = {\n",
    "    \"project_dir\": PROJ,\n",
    "    \"subdirs\": safe_ls(PROJ),\n",
    "    \"figs\": safe_ls(f\"{PROJ}/figs\"),\n",
    "    \"models\": safe_ls(f\"{PROJ}/models\"),\n",
    "    \"results\": safe_ls(f\"{PROJ}/results\"),\n",
    "    \"scripts\": safe_ls(f\"{PROJ}/scripts\"),\n",
    "    \"readme_exists\": os.path.exists(f\"{PROJ}/README.md\")\n",
    "}\n",
    "inventory"
   ]
  },
  {
   "cell_type": "code",
   "execution_count": 42,
   "id": "5286a15f-c493-4fd5-9629-fff6c0352de5",
   "metadata": {},
   "outputs": [
    {
     "data": {
      "text/plain": [
       "{'readme_path': 'C:\\\\Users\\\\PC\\\\Desktop\\\\practice\\\\testing/udemy_portfolio_project\\\\README.md',\n",
       " 'script_path': 'C:\\\\Users\\\\PC\\\\Desktop\\\\practice\\\\testing/udemy_portfolio_project\\\\scripts\\\\udemy_ml_project.py'}"
      ]
     },
     "execution_count": 42,
     "metadata": {},
     "output_type": "execute_result"
    }
   ],
   "source": [
    "import os, textwrap\n",
    "\n",
    "PROJ = r\"C:\\Users\\PC\\Desktop\\practice\\testing/udemy_portfolio_project\"\n",
    "FIGS = os.path.join(PROJ, \"figs\")\n",
    "RESULTS = os.path.join(PROJ, \"results\")\n",
    "MODELS = os.path.join(PROJ, \"models\")\n",
    "SCRIPTS = os.path.join(PROJ, \"scripts\")\n",
    "os.makedirs(SCRIPTS, exist_ok=True)\n",
    "\n",
    "readme = \"\"\"# Udemy Courses — End-to-End ML Project (Portfolio)\"\"\"\n",
    "\n",
    "with open(os.path.join(PROJ, \"README.md\"), \"w\", encoding=\"utf-8\") as f:\n",
    "    f.write(readme)\n",
    "\n",
    "script = '''# scripts/udemy_ml_project.py'''\n",
    "\n",
    "with open(os.path.join(SCRIPTS, \"udemy_ml_project.py\"), \"w\", encoding=\"utf-8\") as f:\n",
    "    f.write(script)\n",
    "{\"readme_path\": os.path.join(PROJ, \"README.md\"),\n",
    " \"script_path\": os.path.join(SCRIPTS, \"udemy_ml_project.py\")}"
   ]
  },
  {
   "cell_type": "code",
   "execution_count": 43,
   "id": "b0f42f02-1969-423a-930c-80845f0c59ba",
   "metadata": {},
   "outputs": [
    {
     "data": {
      "text/plain": [
       "'C:\\\\Users\\\\PC\\\\Desktop\\\\practice\\\\testing/udemy_portfolio_project.zip'"
      ]
     },
     "execution_count": 43,
     "metadata": {},
     "output_type": "execute_result"
    }
   ],
   "source": [
    "# Create a zip archive of the entire project directory for easy download\n",
    "import os, zipfile\n",
    "\n",
    "PROJ = r\"C:\\Users\\PC\\Desktop\\practice\\testing/udemy_portfolio_project\"\n",
    "ZIP_PATH = r\"C:\\Users\\PC\\Desktop\\practice\\testing/udemy_portfolio_project.zip\"\n",
    "\n",
    "def zipdir(path, ziph):\n",
    "    for root, dirs, files in os.walk(path):\n",
    "        for file in files:\n",
    "            fpath = os.path.join(root, file)\n",
    "            arcname = os.path.relpath(fpath, start=os.path.dirname(path))\n",
    "            ziph.write(fpath, arcname)\n",
    "\n",
    "with zipfile.ZipFile(ZIP_PATH, 'w', zipfile.ZIP_DEFLATED) as zipf:\n",
    "    zipdir(PROJ, zipf)\n",
    "\n",
    "ZIP_PATH"
   ]
  },
  {
   "cell_type": "code",
   "execution_count": null,
   "id": "e7379686-55e1-4fc6-ab40-f2aa566715e6",
   "metadata": {},
   "outputs": [],
   "source": []
  }
 ],
 "metadata": {
  "kernelspec": {
   "display_name": "Python 3 (ipykernel)",
   "language": "python",
   "name": "python3"
  },
  "language_info": {
   "codemirror_mode": {
    "name": "ipython",
    "version": 3
   },
   "file_extension": ".py",
   "mimetype": "text/x-python",
   "name": "python",
   "nbconvert_exporter": "python",
   "pygments_lexer": "ipython3",
   "version": "3.12.7"
  }
 },
 "nbformat": 4,
 "nbformat_minor": 5
}
